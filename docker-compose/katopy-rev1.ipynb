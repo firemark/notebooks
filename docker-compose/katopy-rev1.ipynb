{
 "cells": [
  {
   "cell_type": "markdown",
   "metadata": {
    "slideshow": {
     "slide_type": "slide"
    }
   },
   "source": [
    "# Docker-compose oraz dev-owy projekt w Django\n",
    "\n",
    "Marek Piechula\n",
    "\n",
    "kato.py, 2016-03-22"
   ]
  },
  {
   "cell_type": "markdown",
   "metadata": {
    "slideshow": {
     "slide_type": "slide"
    }
   },
   "source": [
    "# Plan\n",
    "\n",
    "* Po co dev-owi wirtualki\n",
    "* Moja historia\n",
    "* Docker compose\n",
    "* Przykład\n",
    "* Pytania"
   ]
  },
  {
   "cell_type": "markdown",
   "metadata": {
    "slideshow": {
     "slide_type": "slide"
    }
   },
   "source": [
    "# Po co dev-owi wirtualki\n",
    "\n",
    "* Bo nie potrafi uruchomić aplikacji u siebie\n",
    "* … albo jest za dużo do ustawiania\n",
    "* Chce by jego (i nie tylko) było środowisko zbliżone do produkcji\n",
    "* Nie chce zaśmiecać swojego systemu przeróżnym softem"
   ]
  },
  {
   "cell_type": "markdown",
   "metadata": {
    "slideshow": {
     "slide_type": "slide"
    }
   },
   "source": [
    "# Virtualbox\n",
    "![image](virtualbox.png)"
   ]
  },
  {
   "cell_type": "markdown",
   "metadata": {
    "slideshow": {
     "slide_type": "slide"
    }
   },
   "source": [
    "# Vagrant"
   ]
  },
  {
   "cell_type": "markdown",
   "metadata": {
    "slideshow": {
     "slide_type": "fragment"
    }
   },
   "source": [
    "![image](vagrant.png)"
   ]
  },
  {
   "cell_type": "markdown",
   "metadata": {
    "collapsed": true,
    "slideshow": {
     "slide_type": "slide"
    }
   },
   "source": [
    "![image](vagrant-fail.png)"
   ]
  },
  {
   "cell_type": "markdown",
   "metadata": {
    "slideshow": {
     "slide_type": "slide"
    }
   },
   "source": [
    "# Docker"
   ]
  },
  {
   "cell_type": "code",
   "execution_count": 9,
   "metadata": {
    "collapsed": false,
    "slideshow": {
     "slide_type": "fragment"
    }
   },
   "outputs": [
    {
     "name": "stdout",
     "output_type": "stream",
     "text": [
      "60181320888b6f111a08047c8c132f3a5ea059419b8d8d50c919edd316d0265c\n"
     ]
    },
    {
     "name": "stderr",
     "output_type": "stream",
     "text": [
      "Unable to find image 'coreos/apache:latest' locally\n",
      "latest: Pulling from coreos/apache\n",
      "d634beec75db: Pulling fs layer\n",
      "8b877d3adb63: Pulling fs layer\n",
      "95dde7ac21e8: Pulling fs layer\n",
      "7aaa39173c60: Pulling fs layer\n",
      "d634beec75db: Verifying Checksum\n",
      "d634beec75db: Download complete\n",
      "8b877d3adb63: Verifying Checksum\n",
      "8b877d3adb63: Download complete\n",
      "d634beec75db: Pull complete\n",
      "8b877d3adb63: Pull complete\n",
      "7aaa39173c60: Verifying Checksum\n",
      "7aaa39173c60: Download complete\n",
      "95dde7ac21e8: Verifying Checksum\n",
      "95dde7ac21e8: Download complete\n",
      "95dde7ac21e8: Pull complete\n",
      "7aaa39173c60: Pull complete\n",
      "Digest: sha256:9af520cee7bedcda564970ff790cdf2e72b6daccce8539f6b3c880ed7fc21091\n",
      "Status: Downloaded newer image for coreos/apache:latest\n"
     ]
    }
   ],
   "source": [
    "%%sh\n",
    "docker run -d -p 8081:80 coreos/apache /usr/sbin/apache2ctl -v ~/hs/:/www/ -D FOREGROUND"
   ]
  },
  {
   "cell_type": "code",
   "execution_count": 13,
   "metadata": {
    "collapsed": false,
    "slideshow": {
     "slide_type": "slide"
    }
   },
   "outputs": [
    {
     "name": "stdout",
     "output_type": "stream",
     "text": [
      "<html><body><h1>It works!</h1>\n",
      "<p>This is the default web page for this server.</p>\n",
      "<p>The web server software is running but no content has been added, yet.</p>\n",
      "</body></html>\n"
     ]
    },
    {
     "name": "stderr",
     "output_type": "stream",
     "text": [
      "  % Total    % Received % Xferd  Average Speed   Time    Time     Time  Current\n",
      "                                 Dload  Upload   Total   Spent    Left  Speed\n",
      "\r",
      "  0     0    0     0    0     0      0      0 --:--:-- --:--:-- --:--:--     0\r",
      "100   177  100   177    0     0  35371      0 --:--:-- --:--:-- --:--:-- 44250\n"
     ]
    }
   ],
   "source": [
    "%%sh\n",
    "curl localhost:8081"
   ]
  },
  {
   "cell_type": "code",
   "execution_count": 14,
   "metadata": {
    "collapsed": false,
    "slideshow": {
     "slide_type": "fragment"
    }
   },
   "outputs": [
    {
     "name": "stdout",
     "output_type": "stream",
     "text": [
      "CONTAINER ID        IMAGE               COMMAND                  CREATED              STATUS              PORTS                  NAMES\n",
      "06bdc0a504a3        coreos/apache       \"/usr/sbin/apache2ctl\"   About a minute ago   Up About a minute   0.0.0.0:8081->80/tcp   focused_bohr\n"
     ]
    }
   ],
   "source": [
    "%%sh\n",
    "docker ps"
   ]
  },
  {
   "cell_type": "markdown",
   "metadata": {
    "slideshow": {
     "slide_type": "slide"
    }
   },
   "source": [
    "# Docker Compose"
   ]
  },
  {
   "cell_type": "markdown",
   "metadata": {
    "slideshow": {
     "slide_type": "slide"
    }
   },
   "source": [
    "### docker-compose.yml"
   ]
  },
  {
   "cell_type": "code",
   "execution_count": null,
   "metadata": {
    "collapsed": true,
    "slideshow": {
     "slide_type": "fragment"
    }
   },
   "outputs": [],
   "source": [
    "db:\n",
    "  image: postgres\n",
    "  environment:\n",
    "    POSTGRES_USER: socek\n",
    "    POSTGRES_PASSWORD: kocham-marka-123\n",
    "\n",
    "web:\n",
    "  build: .\n",
    "  command: python manage.py runserver 0.0.0.0:8000\n",
    "  volumes:\n",
    "    - ./webapp/:/code/\n",
    "    - ./webapp/static/:/static/\n",
    "    - ./webapp/media/:/media/\n",
    "  ports:\n",
    "    - \"8000:8000\"\n",
    "  links:\n",
    "    - db"
   ]
  },
  {
   "cell_type": "markdown",
   "metadata": {
    "slideshow": {
     "slide_type": "slide"
    }
   },
   "source": [
    "### Dockerfile"
   ]
  },
  {
   "cell_type": "code",
   "execution_count": null,
   "metadata": {
    "collapsed": true,
    "slideshow": {
     "slide_type": "fragment"
    }
   },
   "outputs": [],
   "source": [
    "FROM python:3.4\n",
    "ENV PYTHONUNBUFFERED 1\n",
    "ENV DJANGO_CONFIGURATION Docker\n",
    "ENV DJANGO_SETTINGS_MODULE mayzla.settings\n",
    "RUN mkdir /code\n",
    "ADD webapp/requirements.txt /code/\n",
    "RUN pip install -r /code/requirements.txt --upgrade\n",
    "ADD webapp /code/\n",
    "WORKDIR /code"
   ]
  },
  {
   "cell_type": "code",
   "execution_count": 3,
   "metadata": {
    "collapsed": false,
    "slideshow": {
     "slide_type": "slide"
    }
   },
   "outputs": [
    {
     "name": "stdout",
     "output_type": "stream",
     "text": [
      "Step 1 : FROM python:3.4\n",
      " ---> f800fade39e3\n",
      "Step 2 : ENV PYTHONUNBUFFERED 1\n",
      " ---> Using cache\n",
      " ---> efa7ffbf5430\n",
      "Step 3 : ENV DJANGO_CONFIGURATION Docker\n",
      " ---> Using cache\n",
      " ---> 0b4167dee740\n",
      "Step 4 : ENV DJANGO_SETTINGS_MODULE mayzla.settings\n",
      " ---> Using cache\n",
      " ---> cb505245302f\n",
      "Step 5 : RUN mkdir /code\n",
      " ---> Using cache\n",
      " ---> cc7905a0ac04\n",
      "Step 6 : ADD webapp/requirements.txt /code/\n",
      " ---> Using cache\n",
      " ---> ab6cf56a9844\n",
      "Step 7 : RUN pip install -r /code/requirements.txt --upgrade\n",
      " ---> Using cache\n",
      " ---> d57f1a84c998\n",
      "Step 8 : ADD webapp /code/\n",
      " ---> 2efdcc7fce47\n",
      "Removing intermediate container a1d7d992e531\n",
      "Step 9 : WORKDIR /code\n",
      " ---> Running in 0c8c912fc5fc\n",
      " ---> e947f6a077b0\n",
      "Removing intermediate container 0c8c912fc5fc\n",
      "Successfully built e947f6a077b0\n"
     ]
    },
    {
     "name": "stderr",
     "output_type": "stream",
     "text": [
      "Building web\n"
     ]
    }
   ],
   "source": [
    "%%sh\n",
    "cd /home/firemark/git/calendar-oswiecim/\n",
    "docker-compose build web"
   ]
  },
  {
   "cell_type": "code",
   "execution_count": null,
   "metadata": {
    "collapsed": false,
    "slideshow": {
     "slide_type": "slide"
    }
   },
   "outputs": [],
   "source": [
    "docker-compose up web"
   ]
  },
  {
   "cell_type": "code",
   "execution_count": null,
   "metadata": {
    "collapsed": false,
    "slideshow": {
     "slide_type": "fragment"
    }
   },
   "outputs": [],
   "source": [
    "Creating calendaroswiecim_db_1\n",
    "Creating calendaroswiecim_web_1\n",
    "Attaching to calendaroswiecim_web_1\n",
    "web_1 | Performing system checks...\n",
    "web_1 | \n",
    "web_1 | System check identified no issues (0 silenced).\n",
    "web_1 | \n",
    "web_1 | You have unapplied migrations; your app may not work properly until they are applied.\n",
    "web_1 | Run 'python manage.py migrate' to apply them.\n",
    "web_1 | March 21, 2016 - 00:48:29\n",
    "web_1 | Django version 1.8.8, using settings 'mayzla.settings'\n",
    "web_1 | Starting development server at http://0.0.0.0:8000/\n",
    "web_1 | Quit the server with CONTROL-C."
   ]
  },
  {
   "cell_type": "markdown",
   "metadata": {
    "slideshow": {
     "slide_type": "slide"
    }
   },
   "source": [
    "### settings.py"
   ]
  },
  {
   "cell_type": "code",
   "execution_count": null,
   "metadata": {
    "collapsed": true,
    "slideshow": {
     "slide_type": "fragment"
    }
   },
   "outputs": [],
   "source": [
    "from configurations import Configuration\n",
    "\n",
    "BASE_DIR = os.path.dirname(os.path.dirname(os.path.abspath(__file__)))\n",
    "\n",
    "class Base(Configuration):\n",
    "    SECRET_KEY = 'lol :)'\n",
    "    ALLOWED_HOSTS = []\n",
    "    INSTALLED_APPS = (\n",
    "    # … … …\n",
    "\n",
    "class Dev(Base):\n",
    "    STATIC_ROOT = os.path.join(BASE_DIR, 'static')\n",
    "    MEDIA_ROOT = os.path.join(BASE_DIR, 'media')\n",
    "    DBBACKUP_STORAGE_OPTIONS = {'location': '/tmp/'}\n",
    "    DATABASES = {'default': dj_database_url.config(default='sqlite:///db.sqlite3')}\n",
    "    DEBUG = True\n",
    "\n",
    "class Docker(Base):\n",
    "    STATIC_ROOT = '/static/'\n",
    "    MEDIA_ROOT = '/media/'\n",
    "    DBBACKUP_STORAGE_OPTIONS = {'location': '/tmp/'}\n",
    "    DATABASES = {'default': dj_database_url.config(\n",
    "        default='postgres://socek:kocham-marka-123@db/socek'\n",
    "    )}\n",
    "    DEBUG = True"
   ]
  },
  {
   "cell_type": "code",
   "execution_count": null,
   "metadata": {
    "collapsed": true,
    "slideshow": {
     "slide_type": "slide"
    }
   },
   "outputs": [],
   "source": [
    "docker-compose run web ./manage.py migrate       "
   ]
  },
  {
   "cell_type": "code",
   "execution_count": null,
   "metadata": {
    "collapsed": true,
    "slideshow": {
     "slide_type": "fragment"
    }
   },
   "outputs": [],
   "source": [
    "Operations to perform:\n",
    "  Synchronize unmigrated apps: staticfiles, widget_tweaks, thumbnail, messages, ckeditor, bootstrap3, dbbackup, osm_field, easy_select2, datetimewidget\n",
    "  Apply all migrations: auth, contenttypes, admin, calendars, sessions\n",
    "Synchronizing apps without migrations:\n",
    "  Creating tables...\n",
    "    Running deferred SQL...\n",
    "  Installing custom SQL...\n",
    "Running migrations:\n",
    "  Rendering model states... DONE\n",
    "  Applying calendars.0024_auto_20160220_1621... OK\n",
    "  Applying calendars.0025_auto_20160222_1936... OK\n",
    "  Applying calendars.0026_auto_20160222_1953... OK\n",
    "  Applying calendars.0027_organizer_url... OK\n",
    "  Applying calendars.0028_auto_20160225_2336... OK"
   ]
  },
  {
   "cell_type": "markdown",
   "metadata": {
    "collapsed": true,
    "slideshow": {
     "slide_type": "slide"
    }
   },
   "source": [
    "#Demo"
   ]
  },
  {
   "cell_type": "markdown",
   "metadata": {
    "collapsed": true,
    "slideshow": {
     "slide_type": "slide"
    }
   },
   "source": [
    "#Q & A\n",
    "\n",
    "* https://github.com/firemark/notebooks/tree/master/docker-compose\n",
    "* https://github.com/firemark/calendar-oswiecim/tree/docker"
   ]
  }
 ],
 "metadata": {
  "celltoolbar": "Slideshow",
  "kernelspec": {
   "display_name": "Python 2",
   "language": "python",
   "name": "python2"
  },
  "language_info": {
   "codemirror_mode": {
    "name": "ipython",
    "version": 2
   },
   "file_extension": ".py",
   "mimetype": "text/x-python",
   "name": "python",
   "nbconvert_exporter": "python",
   "pygments_lexer": "ipython2",
   "version": "2.7.11"
  }
 },
 "nbformat": 4,
 "nbformat_minor": 0
}

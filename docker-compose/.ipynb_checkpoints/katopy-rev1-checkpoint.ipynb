{
 "cells": [
  {
   "cell_type": "markdown",
   "metadata": {
    "slideshow": {
     "slide_type": "slide"
    }
   },
   "source": [
    "# Docker-compose oraz dev-owy projekt w Django\n",
    "\n",
    "Marek Piechula\n",
    "\n",
    "kato.py, 2016-03-22"
   ]
  },
  {
   "cell_type": "markdown",
   "metadata": {
    "slideshow": {
     "slide_type": "slide"
    }
   },
   "source": [
    "# Plan\n",
    "\n",
    "* Po co dev-owi wirtualki\n",
    "* Moja historia\n",
    "* Docker compose\n",
    "* Przykład\n",
    "* Pytania"
   ]
  },
  {
   "cell_type": "markdown",
   "metadata": {},
   "source": [
    "# Po co dev-owi wirtualki\n",
    "\n",
    "* Bo nie potrafi uruchomić aplikacji u siebie\n",
    "* … albo jest zadużo do ustawiania\n",
    "* Chce by jego (i nie tylko) środowisko zbliżone do produkcji\n",
    "* Nie chce zaśmiecać swojego systemu przeróżnym softem"
   ]
  }
 ],
 "metadata": {
  "celltoolbar": "Slideshow",
  "kernelspec": {
   "display_name": "Python 2",
   "language": "python",
   "name": "python2"
  },
  "language_info": {
   "codemirror_mode": {
    "name": "ipython",
    "version": 2
   },
   "file_extension": ".py",
   "mimetype": "text/x-python",
   "name": "python",
   "nbconvert_exporter": "python",
   "pygments_lexer": "ipython2",
   "version": "2.7.11"
  }
 },
 "nbformat": 4,
 "nbformat_minor": 0
}

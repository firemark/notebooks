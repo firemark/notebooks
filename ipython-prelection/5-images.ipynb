{
 "cells": [
  {
   "cell_type": "code",
   "execution_count": null,
   "metadata": {
    "collapsed": true
   },
   "outputs": [],
   "source": [
    "%matplotlib inline \n",
    "from skimage.color import rgb2hsv, hsv2rgb\n",
    "from skimage.io import imread, imshow, show, imsave\n",
    "from scipy.ndimage.morphology import binary_closing\n",
    "from skimage.transform import resize\n",
    "from skimage.morphology import remove_small_objects\n",
    "from skimage.measure import label\n",
    "from skimage.measure import regionprops\n",
    "import numpy as np\n",
    "import matplotlib.pyplot as plt"
   ]
  },
  {
   "cell_type": "code",
   "execution_count": null,
   "metadata": {
    "collapsed": false
   },
   "outputs": [],
   "source": [
    "x = np.linspace(-np.pi, np.pi, num=512)\n",
    "y = np.linspace(-np.pi, np.pi, num=512)\n",
    "\n",
    "xx, yy = np.meshgrid(x, y)"
   ]
  },
  {
   "cell_type": "code",
   "execution_count": null,
   "metadata": {
    "collapsed": false
   },
   "outputs": [],
   "source": [
    "xx"
   ]
  },
  {
   "cell_type": "code",
   "execution_count": null,
   "metadata": {
    "collapsed": false
   },
   "outputs": [],
   "source": [
    "yy"
   ]
  },
  {
   "cell_type": "code",
   "execution_count": null,
   "metadata": {
    "collapsed": false
   },
   "outputs": [],
   "source": [
    "imshow(np.sin(xx**2 + yy**2))"
   ]
  },
  {
   "cell_type": "code",
   "execution_count": null,
   "metadata": {
    "collapsed": false
   },
   "outputs": [],
   "source": [
    "z = xx - np.sin(4/xx**2) + yy**3 - np.cos(8*yy**4)\n",
    "imshow(z) "
   ]
  },
  {
   "cell_type": "code",
   "execution_count": null,
   "metadata": {
    "collapsed": false
   },
   "outputs": [],
   "source": [
    "imshow(z, cmap='hot')"
   ]
  },
  {
   "cell_type": "code",
   "execution_count": null,
   "metadata": {
    "collapsed": false
   },
   "outputs": [],
   "source": [
    "!wget \"https://upload.wikimedia.org/wikipedia/commons/thumb/e/ea/Van_Gogh_-_Starry_Night_-_Google_Art_Project.jpg/1280px-Van_Gogh_-_Starry_Night_-_Google_Art_Project.jpg\" -O image.jpg"
   ]
  },
  {
   "cell_type": "code",
   "execution_count": null,
   "metadata": {
    "collapsed": false
   },
   "outputs": [],
   "source": [
    "!ls | grep image.jpg"
   ]
  },
  {
   "cell_type": "code",
   "execution_count": null,
   "metadata": {
    "collapsed": false
   },
   "outputs": [],
   "source": [
    "img = imread('image.jpg')\n",
    "imshow(img)"
   ]
  },
  {
   "cell_type": "code",
   "execution_count": null,
   "metadata": {
    "collapsed": false
   },
   "outputs": [],
   "source": [
    "img.shape"
   ]
  },
  {
   "cell_type": "code",
   "execution_count": null,
   "metadata": {
    "collapsed": false
   },
   "outputs": [],
   "source": [
    "r = img[:, :, 0]\n",
    "g = img[:, :, 1]\n",
    "b = img[:, :, 2]"
   ]
  },
  {
   "cell_type": "code",
   "execution_count": null,
   "metadata": {
    "collapsed": true
   },
   "outputs": [],
   "source": [
    "def show_images(images):\n",
    "    len_images = len(images)\n",
    "    fig = plt.figure(figsize=(20, 4))\n",
    "\n",
    "    for i, (im, cmap) in enumerate(images, start=1):\n",
    "        ax = fig.add_subplot(1, len_images , i, xticks=[], yticks=[])    \n",
    "        cax = ax.imshow(im, cmap=cmap)\n",
    "        fig.colorbar(cax, orientation='horizontal')\n",
    "\n",
    "    fig.show()"
   ]
  },
  {
   "cell_type": "code",
   "execution_count": null,
   "metadata": {
    "collapsed": false
   },
   "outputs": [],
   "source": [
    "show_images([\n",
    "    (img, 'hsv'),\n",
    "    (r, 'Reds_r'),\n",
    "    (g, 'Greens_r'),\n",
    "    (b, 'Blues_r'),\n",
    "])"
   ]
  },
  {
   "cell_type": "code",
   "execution_count": null,
   "metadata": {
    "collapsed": true
   },
   "outputs": [],
   "source": [
    "hsv = rgb2hsv(img)\n",
    "h = hsv[:,:,0]\n",
    "s = hsv[:,:,1]\n",
    "v = hsv[:,:,2]"
   ]
  },
  {
   "cell_type": "code",
   "execution_count": null,
   "metadata": {
    "collapsed": false
   },
   "outputs": [],
   "source": [
    "show_images([\n",
    "    (img, 'hsv'),\n",
    "    (h, 'hsv'),\n",
    "    (s, 'Greys'),\n",
    "    (v, 'gray'),\n",
    "])"
   ]
  },
  {
   "cell_type": "code",
   "execution_count": null,
   "metadata": {
    "collapsed": false
   },
   "outputs": [],
   "source": [
    "from ipywidgets import interact\n",
    "from numpy import logical_and as land\n",
    "@interact(a=(0, 1.0, 0.025), b=(0, 1.0, 0.025))\n",
    "def f(a=0.7, b=0.9):\n",
    "    imshow(land(h > a, h < b))"
   ]
  },
  {
   "cell_type": "code",
   "execution_count": null,
   "metadata": {
    "collapsed": false
   },
   "outputs": [],
   "source": [
    "a, b = f.widget.children\n",
    "print(a.value)\n",
    "print(b.value)"
   ]
  },
  {
   "cell_type": "code",
   "execution_count": null,
   "metadata": {
    "collapsed": false
   },
   "outputs": [],
   "source": [
    "x = land(h > a.value, h < b.value)\n",
    "new_hsv = hsv.copy()\n",
    "new_h = new_hsv[:, :, 0]\n",
    "new_h[x] -= 0.5\n",
    "new_rgb = hsv2rgb(new_hsv)\n",
    "imshow(new_rgb)\n",
    "imsave('image-yellow.jpg', new_rgb)"
   ]
  },
  {
   "cell_type": "code",
   "execution_count": null,
   "metadata": {
    "collapsed": false
   },
   "outputs": [],
   "source": [
    "new_h[x] -= 0.1\n",
    "new_rgb = hsv2rgb(new_hsv)\n",
    "imshow(new_rgb)\n",
    "imsave('image-red.jpg', new_rgb)"
   ]
  },
  {
   "cell_type": "code",
   "execution_count": null,
   "metadata": {
    "collapsed": false
   },
   "outputs": [],
   "source": [
    "!gwenview ."
   ]
  },
  {
   "cell_type": "code",
   "execution_count": null,
   "metadata": {
    "collapsed": true
   },
   "outputs": [],
   "source": []
  }
 ],
 "metadata": {
  "kernelspec": {
   "display_name": "Python 2",
   "language": "python",
   "name": "python2"
  },
  "language_info": {
   "codemirror_mode": {
    "name": "ipython",
    "version": 2
   },
   "file_extension": ".py",
   "mimetype": "text/x-python",
   "name": "python",
   "nbconvert_exporter": "python",
   "pygments_lexer": "ipython2",
   "version": "2.7.10"
  }
 },
 "nbformat": 4,
 "nbformat_minor": 0
}

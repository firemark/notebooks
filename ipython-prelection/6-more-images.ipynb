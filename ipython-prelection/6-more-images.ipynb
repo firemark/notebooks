{
 "cells": [
  {
   "cell_type": "code",
   "execution_count": null,
   "metadata": {
    "collapsed": false
   },
   "outputs": [],
   "source": [
    "%matplotlib inline \n",
    "from skimage.color import rgb2hsv\n",
    "from skimage.io import imread, imshow, show\n",
    "from scipy.ndimage.morphology import binary_closing\n",
    "from skimage.transform import resize\n",
    "from skimage.morphology import remove_small_objects\n",
    "from skimage.measure import label\n",
    "from skimage.measure import regionprops\n",
    "import numpy as np\n",
    "import matplotlib.pyplot as plt\n"
   ]
  },
  {
   "cell_type": "code",
   "execution_count": null,
   "metadata": {
    "collapsed": false
   },
   "outputs": [],
   "source": [
    "img = imread(\"blue.jpg\")\n",
    "w = 400\n",
    "h = img.shape[1] * w // img.shape[0]\n",
    "img = resize(img, (w, h))\n",
    "imshow(img)\n",
    "show()"
   ]
  },
  {
   "cell_type": "code",
   "execution_count": null,
   "metadata": {
    "collapsed": true
   },
   "outputs": [],
   "source": [
    "hsv = rgb2hsv(img)\n",
    "h = hsv[:,:,0]\n",
    "s = hsv[:,:,1]\n",
    "v = hsv[:,:,2]"
   ]
  },
  {
   "cell_type": "code",
   "execution_count": null,
   "metadata": {
    "collapsed": false
   },
   "outputs": [],
   "source": [
    "fig = plt.figure(figsize=(20, 4))\n",
    "data = [\n",
    "    (h, 'hsv'),\n",
    "    (s, 'Greys'),\n",
    "    (v, 'gray'),\n",
    "]\n",
    "ldata = len(data)\n",
    "\n",
    "for i, (im, cmap) in enumerate(data, start=1):\n",
    "    ax = fig.add_subplot(1, ldata, i, xticks=[], yticks=[])    \n",
    "    cax = ax.imshow(im, cmap=cmap)\n",
    "    fig.colorbar(cax, orientation='horizontal')\n",
    "\n",
    "fig.show()"
   ]
  },
  {
   "cell_type": "code",
   "execution_count": null,
   "metadata": {
    "collapsed": false
   },
   "outputs": [],
   "source": [
    "imshow(v < 0.3)\n",
    "show()"
   ]
  },
  {
   "cell_type": "code",
   "execution_count": null,
   "metadata": {
    "collapsed": false
   },
   "outputs": [],
   "source": [
    "imshow(binary_closing(v < 0.3, iterations=4))\n",
    "show()"
   ]
  },
  {
   "cell_type": "code",
   "execution_count": null,
   "metadata": {
    "collapsed": false
   },
   "outputs": [],
   "source": [
    "o = binary_closing(v < 0.3, iterations=4)\n",
    "o = remove_small_objects(o)\n",
    "imshow(o)\n",
    "show()"
   ]
  },
  {
   "cell_type": "code",
   "execution_count": null,
   "metadata": {
    "collapsed": false
   },
   "outputs": [],
   "source": [
    "labels = label(o)\n",
    "region = regionprops(labels)[0]\n",
    "minr, minc, maxr, maxc = region.bbox\n",
    "fig = plt.figure(figsize=(20, 4))\n",
    "ax = fig.add_subplot(1,1,1)\n",
    "x, y = (maxr - minr) / 2, (maxc - minc) / 2\n",
    "ax.imshow(img[minr:maxr, minc:maxc])\n",
    "ax.add_artist(plt.Circle((x, y), 5, color='r'))\n",
    "show()"
   ]
  },
  {
   "cell_type": "code",
   "execution_count": null,
   "metadata": {
    "collapsed": true
   },
   "outputs": [],
   "source": []
  }
 ],
 "metadata": {
  "kernelspec": {
   "display_name": "Python 2",
   "language": "python",
   "name": "python2"
  },
  "language_info": {
   "codemirror_mode": {
    "name": "ipython",
    "version": 2
   },
   "file_extension": ".py",
   "mimetype": "text/x-python",
   "name": "python",
   "nbconvert_exporter": "python",
   "pygments_lexer": "ipython2",
   "version": "2.7.10"
  }
 },
 "nbformat": 4,
 "nbformat_minor": 0
}

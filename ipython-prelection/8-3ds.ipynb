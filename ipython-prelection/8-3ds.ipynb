{
 "cells": [
  {
   "cell_type": "code",
   "execution_count": null,
   "metadata": {
    "collapsed": false
   },
   "outputs": [],
   "source": [
    "from pythreejs import *\n",
    "import numpy as np\n",
    "from IPython.display import display\n",
    "from ipywidgets import HTML, Text\n",
    "from traitlets import link, dlink"
   ]
  },
  {
   "cell_type": "code",
   "execution_count": null,
   "metadata": {
    "collapsed": false
   },
   "outputs": [],
   "source": [
    "ball = Mesh(geometry=SphereGeometry(radius=1), material=LambertMaterial(color='red'), position=[2,1,0])\n",
    "scene = Scene(children=[ball, AmbientLight(color=0x777777), make_text('Hello World!', height=.6)])\n",
    "c = PerspectiveCamera(position=[0,5,5], up=[0,0,1], children=[DirectionalLight(color='white', \n",
    "                                                                             position=[3,5,1], \n",
    "                                                                             intensity=0.5)])\n",
    "renderer = Renderer(camera=c, scene = scene, controls=[OrbitControls(controlling=c)])\n",
    "display(renderer)"
   ]
  },
  {
   "cell_type": "code",
   "execution_count": null,
   "metadata": {
    "collapsed": true
   },
   "outputs": [],
   "source": [
    "import time, math\n",
    "ball.material.color = 0x4400dd\n",
    "for i in range(1,150,2):\n",
    "    ball.geometry.radius=i/100.\n",
    "    ball.material.color +=0x000300\n",
    "    ball.position = [math.cos(i/10.), math.sin(i/50.), i/100.]\n",
    "    time.sleep(.05)"
   ]
  },
  {
   "cell_type": "code",
   "execution_count": null,
   "metadata": {
    "collapsed": false
   },
   "outputs": [],
   "source": [
    "from random import random, choice\n",
    "colors = ['red', 'blue', 'green']\n",
    "balls = [\n",
    "    Mesh(\n",
    "        geometry=SphereGeometry(radius=random() + 0.5),\n",
    "        material=LambertMaterial(color=choice(colors)),\n",
    "        position=[3 * i - 5,1,0]\n",
    "    )\n",
    "    for i in range(5)\n",
    "]\n",
    "scene = Scene(children=balls + [AmbientLight(color=0x777777)])\n",
    "c = PerspectiveCamera(position=[0,0,10], up=[0,0,1], children=[DirectionalLight(color='white', \n",
    "                                                                             position=[3,5,1], \n",
    "                                                                             intensity=0.5)])\n",
    "renderer = Renderer(camera=c, scene = scene, controls=[OrbitControls(controlling=c)])\n",
    "display(renderer)"
   ]
  },
  {
   "cell_type": "code",
   "execution_count": null,
   "metadata": {
    "collapsed": true
   },
   "outputs": [],
   "source": []
  },
  {
   "cell_type": "code",
   "execution_count": null,
   "metadata": {
    "collapsed": true
   },
   "outputs": [],
   "source": []
  },
  {
   "cell_type": "code",
   "execution_count": null,
   "metadata": {
    "collapsed": true
   },
   "outputs": [],
   "source": []
  }
 ],
 "metadata": {
  "kernelspec": {
   "display_name": "Python 2",
   "language": "python",
   "name": "python2"
  },
  "language_info": {
   "codemirror_mode": {
    "name": "ipython",
    "version": 2
   },
   "file_extension": ".py",
   "mimetype": "text/x-python",
   "name": "python",
   "nbconvert_exporter": "python",
   "pygments_lexer": "ipython2",
   "version": "2.7.10"
  }
 },
 "nbformat": 4,
 "nbformat_minor": 0
}

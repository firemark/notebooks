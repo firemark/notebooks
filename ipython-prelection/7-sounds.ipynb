{
 "cells": [
  {
   "cell_type": "code",
   "execution_count": null,
   "metadata": {
    "collapsed": true
   },
   "outputs": [],
   "source": [
    "from IPython.display import Audio"
   ]
  },
  {
   "cell_type": "code",
   "execution_count": null,
   "metadata": {
    "collapsed": false
   },
   "outputs": [],
   "source": [
    "%matplotlib inline\n",
    "import numpy as np\n",
    "import matplotlib.pyplot as plt\n",
    "from ipywidgets import interact\n",
    "from IPython.display import display\n",
    "framerate = 44100\n",
    "t = np.linspace(0,1.5,framerate*1.5)\n",
    "\n",
    "@interact(f=(30, 600, 30))\n",
    "def f(f):\n",
    "    data = np.sin(2*np.pi*t*f)\n",
    "    plt.figure(figsize=(20, 5))\n",
    "    plt.plot(t, data)\n",
    "    display(Audio(data, rate=framerate))"
   ]
  },
  {
   "cell_type": "code",
   "execution_count": null,
   "metadata": {
    "collapsed": false
   },
   "outputs": [],
   "source": [
    "data = np.sin(2*np.pi*t*160) * np.log( (t+1) / 3)\n",
    "plt.figure(figsize=(20, 5))\n",
    "plt.plot(t, data)\n",
    "Audio(data, rate=framerate)"
   ]
  },
  {
   "cell_type": "code",
   "execution_count": null,
   "metadata": {
    "collapsed": true
   },
   "outputs": [],
   "source": []
  }
 ],
 "metadata": {
  "kernelspec": {
   "display_name": "Python 2",
   "language": "python",
   "name": "python2"
  },
  "language_info": {
   "codemirror_mode": {
    "name": "ipython",
    "version": 2
   },
   "file_extension": ".py",
   "mimetype": "text/x-python",
   "name": "python",
   "nbconvert_exporter": "python",
   "pygments_lexer": "ipython2",
   "version": "2.7.10"
  }
 },
 "nbformat": 4,
 "nbformat_minor": 0
}

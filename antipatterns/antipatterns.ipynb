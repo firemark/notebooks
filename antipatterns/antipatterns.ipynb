{
 "cells": [
  {
   "cell_type": "markdown",
   "metadata": {
    "slideshow": {
     "slide_type": "slide"
    }
   },
   "source": [
    "# Antywzorce\n",
    "\n",
    "Marek Piechula\n",
    "\n",
    "![](logos.png)\n",
    "\n",
    "IPIJ, 2016-12-05"
   ]
  },
  {
   "cell_type": "markdown",
   "metadata": {
    "slideshow": {
     "slide_type": "slide"
    }
   },
   "source": [
    "## Legenda\n",
    "* czym są wzorce?\n",
    "* Czym są antywzorce?\n",
    "* Dlaczego o nich mówię?\n",
    "* Antywzorce w programowaniu\n",
    "* Antywzorce w metodyczne\n",
    "* Linki"
   ]
  },
  {
   "cell_type": "markdown",
   "metadata": {
    "slideshow": {
     "slide_type": "slide"
    }
   },
   "source": [
    "## Czym są wzorce?\n",
    "\n",
    "Jest to sposób/schemat/architektura który możemy użyć w programie/projekcie/kodzie. Polecam."
   ]
  },
  {
   "cell_type": "markdown",
   "metadata": {
    "slideshow": {
     "slide_type": "slide"
    }
   },
   "source": [
    "## Czym są antywzorce\n",
    "\n",
    "Są to wzorce projektowe, gdzie stosowanie ich (przypadkowo lub nie) może utrudnić rozwój kodu w przyszłości.\n",
    "Tyle w teorii."
   ]
  },
  {
   "cell_type": "markdown",
   "metadata": {
    "slideshow": {
     "slide_type": "slide"
    }
   },
   "source": [
    "## Dlaczego o nich mówię\n",
    "\n",
    "Dużo początkujących programistów nie wie gdzie robi błąd oraz jakie to może mieć konsekwencje"
   ]
  },
  {
   "cell_type": "markdown",
   "metadata": {
    "slideshow": {
     "slide_type": "slide"
    }
   },
   "source": [
    "## Antywzorce w programowaniu\n",
    "### IfOk"
   ]
  },
  {
   "cell_type": "code",
   "execution_count": 9,
   "metadata": {
    "collapsed": true,
    "slideshow": {
     "slide_type": "fragment"
    }
   },
   "outputs": [],
   "source": [
    "def validate_password(password):\n",
    "    if password:\n",
    "        if len(password) > 6:\n",
    "            return True\n",
    "        else:\n",
    "            raise ValueError('password is too short')\n",
    "    else:\n",
    "        raise ValueError('password is empty')"
   ]
  },
  {
   "cell_type": "markdown",
   "metadata": {
    "slideshow": {
     "slide_type": "fragment"
    }
   },
   "source": [
    "* Zalety: Pozytywne warunki!\n",
    "* Wady: Zagnieżdżenie kodu\n",
    "* Rozwiązanie: IfError"
   ]
  },
  {
   "cell_type": "markdown",
   "metadata": {
    "slideshow": {
     "slide_type": "slide"
    }
   },
   "source": [
    "![Php haryuken](./php-haryuken.jpg)"
   ]
  },
  {
   "cell_type": "code",
   "execution_count": 3,
   "metadata": {
    "collapsed": true,
    "slideshow": {
     "slide_type": "slide"
    }
   },
   "outputs": [],
   "source": [
    "def validate_password(password):\n",
    "    if not password:\n",
    "        raise ValueError('password is empty')\n",
    "\n",
    "    if len(password) <= 6:\n",
    "        raise ValueError('password is too short')\n",
    "    \n",
    "    return True"
   ]
  },
  {
   "cell_type": "markdown",
   "metadata": {
    "slideshow": {
     "slide_type": "slide"
    }
   },
   "source": [
    "### Magiczna liczba\n"
   ]
  },
  {
   "cell_type": "code",
   "execution_count": 4,
   "metadata": {
    "collapsed": true,
    "slideshow": {
     "slide_type": "fragment"
    }
   },
   "outputs": [],
   "source": [
    "def skowronek(x):\n",
    "    return (x + 666) * 1337 / 3.14"
   ]
  },
  {
   "cell_type": "code",
   "execution_count": 5,
   "metadata": {
    "collapsed": true,
    "slideshow": {
     "slide_type": "fragment"
    }
   },
   "outputs": [],
   "source": [
    "def skowronek(x):\n",
    "    return (x + SATAN) * LEET / PI"
   ]
  },
  {
   "cell_type": "markdown",
   "metadata": {
    "slideshow": {
     "slide_type": "slide"
    }
   },
   "source": [
    "### Ukrywanie błędów"
   ]
  },
  {
   "cell_type": "code",
   "execution_count": 6,
   "metadata": {
    "collapsed": true,
    "slideshow": {
     "slide_type": "fragment"
    }
   },
   "outputs": [],
   "source": [
    "def drabik(id):\n",
    "    try:\n",
    "        obj = Api.get_special_obj(id)\n",
    "        return SATAN / obj.value\n",
    "    except:\n",
    "        return None"
   ]
  },
  {
   "cell_type": "markdown",
   "metadata": {
    "slideshow": {
     "slide_type": "fragment"
    }
   },
   "source": [
    "* Zalety: kod zawsze działa\n",
    "* Wady: nie wiesz dlaczego.\n",
    "* Rozwiązanie: zgłaszanie do logów błędów jak bardzo chcesz ukryć błąd."
   ]
  },
  {
   "cell_type": "code",
   "execution_count": 8,
   "metadata": {
    "collapsed": false,
    "slideshow": {
     "slide_type": "fragment"
    }
   },
   "outputs": [
    {
     "name": "stdout",
     "output_type": "stream",
     "text": [
      "None\n"
     ]
    }
   ],
   "source": [
    "print drabik(0)"
   ]
  },
  {
   "cell_type": "code",
   "execution_count": 9,
   "metadata": {
    "collapsed": false,
    "slideshow": {
     "slide_type": "fragment"
    }
   },
   "outputs": [
    {
     "name": "stdout",
     "output_type": "stream",
     "text": [
      "None\n"
     ]
    }
   ],
   "source": [
    "print drabik(1)"
   ]
  },
  {
   "cell_type": "code",
   "execution_count": 10,
   "metadata": {
    "collapsed": true,
    "slideshow": {
     "slide_type": "slide"
    }
   },
   "outputs": [],
   "source": [
    "def drabik(id):\n",
    "    try:\n",
    "        obj = Api.get_special_obj(id)\n",
    "    except ApiError:\n",
    "        log.warning('problem with api')\n",
    "        return None\n",
    "    try:\n",
    "        return SATAN / obj.value\n",
    "    except ZeroDivisionError:\n",
    "        log.warning('obj.value is 0')\n",
    "        return None"
   ]
  },
  {
   "cell_type": "markdown",
   "metadata": {
    "collapsed": true,
    "slideshow": {
     "slide_type": "slide"
    }
   },
   "source": [
    "### Stosowanie wzorców na siłę\n",
    "![ProblemFactory](problem-factory.jpeg)"
   ]
  },
  {
   "cell_type": "code",
   "execution_count": null,
   "metadata": {
    "collapsed": false,
    "slideshow": {
     "slide_type": "fragment"
    }
   },
   "outputs": [],
   "source": [
    "class SimpleBeanFactoryAwareAspectInstanceFactory"
   ]
  },
  {
   "cell_type": "markdown",
   "metadata": {
    "slideshow": {
     "slide_type": "fragment"
    }
   },
   "source": [
    "https://github.com/EnterpriseQualityCoding/FizzBuzzEnterpriseEdition"
   ]
  },
  {
   "cell_type": "markdown",
   "metadata": {
    "slideshow": {
     "slide_type": "slide"
    }
   },
   "source": [
    "### Singletonizm"
   ]
  },
  {
   "cell_type": "code",
   "execution_count": 4,
   "metadata": {
    "collapsed": false,
    "slideshow": {
     "slide_type": "fragment"
    }
   },
   "outputs": [],
   "source": [
    "class Config:\n",
    "    @classmethod\n",
    "    def setup_config(cls):\n",
    "        '…'\n",
    "    @classmethod\n",
    "    def get_config(cls):\n",
    "        if cls._config is None:\n",
    "            cls.config = Config()\n",
    "        return cls._config"
   ]
  },
  {
   "cell_type": "markdown",
   "metadata": {},
   "source": [
    "* Zalety: masz jeden, ten sam obiekt wszędzie.\n",
    "* Wady: nie możesz stworzyć drugiego obiektu.\n",
    "* Rozwiązanie: stworzenie menadżera do takich obiektów."
   ]
  },
  {
   "cell_type": "code",
   "execution_count": 8,
   "metadata": {
    "collapsed": true,
    "slideshow": {
     "slide_type": "slide"
    }
   },
   "outputs": [],
   "source": [
    "class Database:\n",
    "    @classmethod\n",
    "    def get_database(cls):\n",
    "        '…'"
   ]
  },
  {
   "cell_type": "markdown",
   "metadata": {
    "slideshow": {
     "slide_type": "fragment"
    }
   },
   "source": [
    "![Django 1.2](django12.png)"
   ]
  },
  {
   "cell_type": "code",
   "execution_count": 10,
   "metadata": {
    "collapsed": true,
    "slideshow": {
     "slide_type": "fragment"
    }
   },
   "outputs": [],
   "source": [
    "class DatabaseManager:\n",
    "    @classmethod\n",
    "    def get_database(cls, name='default'):\n",
    "        '…'"
   ]
  },
  {
   "cell_type": "markdown",
   "metadata": {
    "slideshow": {
     "slide_type": "slide"
    }
   },
   "source": [
    "### Active Record"
   ]
  },
  {
   "cell_type": "code",
   "execution_count": null,
   "metadata": {
    "collapsed": false,
    "slideshow": {
     "slide_type": "fragment"
    }
   },
   "outputs": [],
   "source": [
    "pizza = Pizza()\n",
    "pizza.name = 'salami'\n",
    "pizza.size = 15\n",
    "pizza.save()"
   ]
  },
  {
   "cell_type": "markdown",
   "metadata": {
    "slideshow": {
     "slide_type": "fragment"
    }
   },
   "source": [
    "* Zalety: obiektowość, oczywiste, działa, wow super\n",
    "* Wady: gdzie zapisuje? co zapisuje? co zwróci? Czy zmodyfikuje obiekt? Dokąd dążymy?"
   ]
  },
  {
   "cell_type": "markdown",
   "metadata": {
    "slideshow": {
     "slide_type": "slide"
    }
   },
   "source": [
    "### God object"
   ]
  },
  {
   "cell_type": "code",
   "execution_count": null,
   "metadata": {
    "collapsed": true
   },
   "outputs": [],
   "source": [
    "class User:\n",
    "    name = ''\n",
    "    age = ''\n",
    "    color = '' # no racism!\n",
    "    #... 20 pol pozniej ...\n",
    "    children = Many2Many(User)\n",
    "    shoes = Many2Many(Boot)\n",
    "    buildings = Many2Many(Building)\n",
    "    #... 10 relacji pozniej ...\n",
    "    \n",
    "    def get_children(self):\n",
    "        #...\n",
    "    def get_only_black_children(self):\n",
    "        #...\n",
    "    #... 50 metod pozniej ..."
   ]
  },
  {
   "cell_type": "markdown",
   "metadata": {},
   "source": [
    "* Zalety: wygodnie bo Bóg jest wszędzie.\n",
    "* Wada: wszystko od niego zależy. \n",
    "* Rozwiązanie: dziel i zwyciężaj."
   ]
  },
  {
   "cell_type": "markdown",
   "metadata": {
    "slideshow": {
     "slide_type": "slide"
    }
   },
   "source": [
    "### If ladder"
   ]
  },
  {
   "cell_type": "code",
   "execution_count": 13,
   "metadata": {
    "collapsed": false,
    "slideshow": {
     "slide_type": "fragment"
    }
   },
   "outputs": [],
   "source": [
    "def execute(name):\n",
    "    if name == 'FOO':\n",
    "        execute_foo()\n",
    "    elif name == 'BAR':\n",
    "        execute_bar()\n",
    "    else:\n",
    "        execute_default()\n",
    "#...\n",
    "def clear(name):\n",
    "    if name == 'FOO':\n",
    "        clear_foo()\n",
    "    elif name == 'BAR':\n",
    "        clear_bar()\n",
    "    else:\n",
    "        clear_default()"
   ]
  },
  {
   "cell_type": "markdown",
   "metadata": {
    "slideshow": {
     "slide_type": "fragment"
    }
   },
   "source": [
    "* Zalety: proste do napisania\n",
    "* Wada: Zaprzecza obiektowości oraz niewygodne w edycji gdy potrzebujesz N ifów dla M sytuacji\n",
    "* Rozwiązanie: Manager"
   ]
  },
  {
   "cell_type": "code",
   "execution_count": 14,
   "metadata": {
    "collapsed": true,
    "slideshow": {
     "slide_type": "slide"
    }
   },
   "outputs": [],
   "source": [
    "class ObjManager:\n",
    "    def __init__(self, name):  # Konstruktor\n",
    "        self.name = name\n",
    "        self.obj = self.get_obj(name)\n",
    "    \n",
    "    def execute(self):\n",
    "        self.obj.execute()\n",
    "    \n",
    "    def clear(self):\n",
    "        self.obj.clear()"
   ]
  },
  {
   "cell_type": "markdown",
   "metadata": {
    "slideshow": {
     "slide_type": "slide"
    }
   },
   "source": [
    "## Antywzorce metodyczne\n",
    "### Programowanie typu kopiuj i wklej"
   ]
  },
  {
   "cell_type": "code",
   "execution_count": null,
   "metadata": {
    "collapsed": true,
    "slideshow": {
     "slide_type": "fragment"
    }
   },
   "outputs": [],
   "source": [
    "class ObjA:\n",
    "    def get_name(self):\n",
    "        return 'a'\n",
    "class ObjB:\n",
    "    def get_name(self):\n",
    "        return 'b'\n",
    "class ObjC:\n",
    "    def get_name(self):\n",
    "        return 'c'\n",
    "class ObjD:\n",
    "    def get_name(self):\n",
    "        return 'd'"
   ]
  },
  {
   "cell_type": "code",
   "execution_count": null,
   "metadata": {
    "collapsed": true,
    "slideshow": {
     "slide_type": "slide"
    }
   },
   "outputs": [],
   "source": [
    "class Obj:\n",
    "    def get_name(self):\n",
    "        return self.NAME\n",
    "class ObjA(Obj):\n",
    "    NAME = 'a'\n",
    "class ObjB(Obj):\n",
    "    NAME = 'b'\n",
    "class ObjC(Obj):\n",
    "    NAME = 'c'\n",
    "class ObjD(Obj):\n",
    "    NAME = 'd'"
   ]
  },
  {
   "cell_type": "markdown",
   "metadata": {
    "collapsed": true,
    "slideshow": {
     "slide_type": "slide"
    }
   },
   "source": [
    "## Odkrywanie kwadratowego koła"
   ]
  },
  {
   "cell_type": "markdown",
   "metadata": {
    "slideshow": {
     "slide_type": "fragment"
    }
   },
   "source": [
    "![Wheels](wheel.jpg)"
   ]
  },
  {
   "cell_type": "markdown",
   "metadata": {
    "slideshow": {
     "slide_type": "slide"
    }
   },
   "source": [
    "![wheel two](wheel2.jpg)"
   ]
  },
  {
   "cell_type": "markdown",
   "metadata": {
    "slideshow": {
     "slide_type": "slide"
    }
   },
   "source": [
    "### Przedwczesna optymalizacja"
   ]
  },
  {
   "cell_type": "markdown",
   "metadata": {
    "slideshow": {
     "slide_type": "slide"
    }
   },
   "source": [
    "# Linki oraz Q&A\n",
    "\n",
    "* https://pl.wikipedia.org/wiki/Antywzorzec_projektowy\n",
    "* https://sourcemaking.com/antipatterns\n",
    "* https://hs-silesia.pl/"
   ]
  }
 ],
 "metadata": {
  "celltoolbar": "Slideshow",
  "kernelspec": {
   "display_name": "Python 2",
   "language": "python",
   "name": "python2"
  },
  "language_info": {
   "codemirror_mode": {
    "name": "ipython",
    "version": 2
   },
   "file_extension": ".py",
   "mimetype": "text/x-python",
   "name": "python",
   "nbconvert_exporter": "python",
   "pygments_lexer": "ipython2",
   "version": "2.7.12"
  }
 },
 "nbformat": 4,
 "nbformat_minor": 0
}
